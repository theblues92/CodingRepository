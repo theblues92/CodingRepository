{
 "cells": [
  {
   "cell_type": "markdown",
   "metadata": {},
   "source": [
    "# import modules"
   ]
  },
  {
   "cell_type": "code",
   "execution_count": 1,
   "metadata": {},
   "outputs": [],
   "source": [
    "import pandas as pd\n",
    "import numpy as np\n",
    "import matplotlib.pyplot as plt\n",
    "\n",
    "from tensorflow.keras.models import Sequential\n",
    "from tensorflow.keras.layers import Dense"
   ]
  },
  {
   "cell_type": "markdown",
   "metadata": {},
   "source": [
    "pandas 엑셀 불러오고 쓰는 데 쓰이는 모듈  "
   ]
  },
  {
   "cell_type": "markdown",
   "metadata": {},
   "source": [
    "# data preparation and visualization"
   ]
  },
  {
   "cell_type": "code",
   "execution_count": 2,
   "metadata": {
    "scrolled": true
   },
   "outputs": [
    {
     "data": {
      "text/html": [
       "<div>\n",
       "<style scoped>\n",
       "    .dataframe tbody tr th:only-of-type {\n",
       "        vertical-align: middle;\n",
       "    }\n",
       "\n",
       "    .dataframe tbody tr th {\n",
       "        vertical-align: top;\n",
       "    }\n",
       "\n",
       "    .dataframe thead th {\n",
       "        text-align: right;\n",
       "    }\n",
       "</style>\n",
       "<table border=\"1\" class=\"dataframe\">\n",
       "  <thead>\n",
       "    <tr style=\"text-align: right;\">\n",
       "      <th></th>\n",
       "      <th>X</th>\n",
       "      <th>Y</th>\n",
       "    </tr>\n",
       "  </thead>\n",
       "  <tbody>\n",
       "    <tr>\n",
       "      <th>0</th>\n",
       "      <td>3.300</td>\n",
       "      <td>1.700</td>\n",
       "    </tr>\n",
       "    <tr>\n",
       "      <th>1</th>\n",
       "      <td>4.400</td>\n",
       "      <td>2.760</td>\n",
       "    </tr>\n",
       "    <tr>\n",
       "      <th>2</th>\n",
       "      <td>5.500</td>\n",
       "      <td>2.090</td>\n",
       "    </tr>\n",
       "    <tr>\n",
       "      <th>3</th>\n",
       "      <td>6.710</td>\n",
       "      <td>3.190</td>\n",
       "    </tr>\n",
       "    <tr>\n",
       "      <th>4</th>\n",
       "      <td>6.930</td>\n",
       "      <td>1.694</td>\n",
       "    </tr>\n",
       "    <tr>\n",
       "      <th>5</th>\n",
       "      <td>4.168</td>\n",
       "      <td>1.573</td>\n",
       "    </tr>\n",
       "    <tr>\n",
       "      <th>6</th>\n",
       "      <td>9.779</td>\n",
       "      <td>3.366</td>\n",
       "    </tr>\n",
       "    <tr>\n",
       "      <th>7</th>\n",
       "      <td>6.182</td>\n",
       "      <td>2.596</td>\n",
       "    </tr>\n",
       "    <tr>\n",
       "      <th>8</th>\n",
       "      <td>7.590</td>\n",
       "      <td>2.530</td>\n",
       "    </tr>\n",
       "    <tr>\n",
       "      <th>9</th>\n",
       "      <td>2.167</td>\n",
       "      <td>1.221</td>\n",
       "    </tr>\n",
       "    <tr>\n",
       "      <th>10</th>\n",
       "      <td>7.042</td>\n",
       "      <td>2.827</td>\n",
       "    </tr>\n",
       "    <tr>\n",
       "      <th>11</th>\n",
       "      <td>10.791</td>\n",
       "      <td>3.465</td>\n",
       "    </tr>\n",
       "    <tr>\n",
       "      <th>12</th>\n",
       "      <td>5.313</td>\n",
       "      <td>1.650</td>\n",
       "    </tr>\n",
       "    <tr>\n",
       "      <th>13</th>\n",
       "      <td>7.997</td>\n",
       "      <td>2.904</td>\n",
       "    </tr>\n",
       "    <tr>\n",
       "      <th>14</th>\n",
       "      <td>5.654</td>\n",
       "      <td>2.420</td>\n",
       "    </tr>\n",
       "    <tr>\n",
       "      <th>15</th>\n",
       "      <td>9.270</td>\n",
       "      <td>2.940</td>\n",
       "    </tr>\n",
       "    <tr>\n",
       "      <th>16</th>\n",
       "      <td>3.100</td>\n",
       "      <td>1.300</td>\n",
       "    </tr>\n",
       "  </tbody>\n",
       "</table>\n",
       "</div>"
      ],
      "text/plain": [
       "         X      Y\n",
       "0    3.300  1.700\n",
       "1    4.400  2.760\n",
       "2    5.500  2.090\n",
       "3    6.710  3.190\n",
       "4    6.930  1.694\n",
       "5    4.168  1.573\n",
       "6    9.779  3.366\n",
       "7    6.182  2.596\n",
       "8    7.590  2.530\n",
       "9    2.167  1.221\n",
       "10   7.042  2.827\n",
       "11  10.791  3.465\n",
       "12   5.313  1.650\n",
       "13   7.997  2.904\n",
       "14   5.654  2.420\n",
       "15   9.270  2.940\n",
       "16   3.100  1.300"
      ]
     },
     "execution_count": 2,
     "metadata": {},
     "output_type": "execute_result"
    }
   ],
   "source": [
    "pd.read_csv('regression.csv')"
   ]
  },
  {
   "cell_type": "markdown",
   "metadata": {},
   "source": [
    "regression "
   ]
  },
  {
   "cell_type": "code",
   "execution_count": 3,
   "metadata": {},
   "outputs": [
    {
     "data": {
      "text/plain": [
       "[<matplotlib.lines.Line2D at 0x2b55fd8bd30>]"
      ]
     },
     "execution_count": 3,
     "metadata": {},
     "output_type": "execute_result"
    },
    {
     "data": {
      "image/png": "[encoded data removed]",
      "text/plain": [
       "<Figure size 432x288 with 1 Axes>"
      ]
     },
     "metadata": {
      "needs_background": "light"
     },
     "output_type": "display_data"
    }
   ],
   "source": [
    "data = pd.read_csv('regression.csv')\n",
    "X = data['X']\n",
    "Y = data['Y']\n",
    "plt.plot(X, Y, 'g.')"
   ]
  },
  {
   "cell_type": "markdown",
   "metadata": {},
   "source": [
    "우리가 쓸 모델이 뭔지 정해놓고 시작해야 함  \n",
    "우리는 y = ax + b의 모델을 쓸 거고 그러면 각각 x와 y로 그 데이터를 받아와야 함  \n",
    "그게 위 cell임"
   ]
  },
  {
   "cell_type": "markdown",
   "metadata": {},
   "source": [
    "plt module 불러왔기에 plot 할 수 있는데  \n",
    "항상 plottable하지는 않은데 이 때는 x와 y 일대일 대응 되니 plottable함"
   ]
  },
  {
   "cell_type": "code",
   "execution_count": 4,
   "metadata": {},
   "outputs": [
    {
     "data": {
      "text/plain": [
       "[<matplotlib.lines.Line2D at 0x2b55fe1cc18>]"
      ]
     },
     "execution_count": 4,
     "metadata": {},
     "output_type": "execute_result"
    },
    {
     "data": {
      "image/png": "[encoded data removed]",
      "text/plain": [
       "<Figure size 432x288 with 1 Axes>"
      ]
     },
     "metadata": {
      "needs_background": "light"
     },
     "output_type": "display_data"
    }
   ],
   "source": [
    "plt.plot(X, Y)"
   ]
  },
  {
   "cell_type": "markdown",
   "metadata": {},
   "source": [
    "이런 건 wave에서 좀 유용할 것임"
   ]
  },
  {
   "cell_type": "markdown",
   "metadata": {},
   "source": [
    "어쨌든 이제 우리가 구해야 할 건 가장 오차가 적게 나는 직선  \n",
    "이건 2차원이라 존나 간단한데  \n",
    "3차원만 되어도 달라짐\n",
    "그래도 3차원은 그려질 수 있긴 함. x1, x2, y1  \n",
    "평면이 그려질 것임.  \n",
    "  \n",
    "2차원 상의 데이터를 설명해주는 것은 1차원  \n",
    "3차원 상의 데이터를 설명해주는 것은 2차원"
   ]
  },
  {
   "cell_type": "markdown",
   "metadata": {},
   "source": [
    "# create model"
   ]
  },
  {
   "cell_type": "markdown",
   "metadata": {},
   "source": [
    "2nd sequential이라는 model 은 일방향  \n",
    "출력은 동그라미 하나고 input shape는 1이지만 실제로는 node 두 개임.  \n",
    "rmsprop 을 sgd 대신 써라  \n",
    "hidden layer를 넣는 방법.  \n",
    "model.add 여러 개 하면 hidden layer 넣는 것임.\n",
    "그리고 제일 마지막에 data는 1이 되어야 하니까 Dense(1) 되어야 함.  \n",
    "  \n",
    "마지막 activation = 'sigmoid'를 넣을 수 있음 / relu  / linear / tanh  등 여러 개 있음. linear는 그냥 적으나마나임."
   ]
  },
  {
   "cell_type": "markdown",
   "metadata": {},
   "source": [
    "식을 세우고 그림을 만든다 자체가 model임"
   ]
  },
  {
   "cell_type": "markdown",
   "metadata": {},
   "source": [
    "Sequential() 은 그냥 모델 시작이라는 말임  \n",
    "그래서 그걸 model 껍데기로 씌우고  \n",
    "그리고 그 모델은 model.add로 정의해줌  \n",
    "그 모델의 이름이 Dense인데,  \n",
    "입력이 몇 개 인가, 출력이 몇 개인가를 결정하는 것임  \n",
    "만약 x가 2 개이다, 그러면 input_shape에다가 2 적으면 되는 것  \n",
    "  \n",
    "Dense라는 말은 뭘까, 왜 하필 Dense?  \n",
    "model 그림을 볼 때, 왼쪽 동그라미랑 오른쪽 동그라미랑 full connection이 되어있으면,  \n",
    "그게 dense임.  \n",
    "  \n",
    "compile은 model의 마무리를 해주는 것임.  \n",
    "우리는 a와 b를 구해야 하는데, 처음에는 a와 b를 랜덤하게 넣고\n",
    "x 데이터를 한 개 넣으면, y가 나옴  \n",
    "따라서 처음에는 output과 target이 차이가 날 수밖에 없음\n",
    "그 차이를 수정할 때, 미분 방식을 쓰는데, 그 알고리즘을 optimizer = sgd로 loss는 그 차이를 "
   ]
  },
  {
   "cell_type": "code",
   "execution_count": 5,
   "metadata": {
    "scrolled": false
   },
   "outputs": [
    {
     "name": "stdout",
     "output_type": "stream",
     "text": [
      "WARNING:tensorflow:From C:\\Users\\Lee\\Anaconda3\\lib\\site-packages\\tensorflow\\python\\ops\\resource_variable_ops.py:435: colocate_with (from tensorflow.python.framework.ops) is deprecated and will be removed in a future version.\n",
      "Instructions for updating:\n",
      "Colocations handled automatically by placer.\n",
      "WARNING:tensorflow:From C:\\Users\\Lee\\Anaconda3\\lib\\site-packages\\tensorflow\\python\\keras\\utils\\losses_utils.py:170: to_float (from tensorflow.python.ops.math_ops) is deprecated and will be removed in a future version.\n",
      "Instructions for updating:\n",
      "Use tf.cast instead.\n"
     ]
    }
   ],
   "source": [
    "model = Sequential()\n",
    "model.add(Dense(1, input_shape=[1]))\n",
    "model.add(Dense(3))\n",
    "model.add(Dense(6))\n",
    "model.add(Dense(4))\n",
    "model.add(Dense(1), activation = 'sigmoid')\n",
    "model.compile(optimizer=\"sgd\", loss='mse')"
   ]
  },
  {
   "cell_type": "markdown",
   "metadata": {},
   "source": [
    "Dense 부분은 출력차원 input shape는 입력 차원.\n",
    "위에까지 y = ax+b의 차원을 만든 것임."
   ]
  },
  {
   "cell_type": "markdown",
   "metadata": {},
   "source": [
    "# train model"
   ]
  },
  {
   "cell_type": "code",
   "execution_count": 8,
   "metadata": {},
   "outputs": [
    {
     "name": "stdout",
     "output_type": "stream",
     "text": [
      "Epoch 1/100\n",
      "17/17 [==============================] - 0s 25ms/sample - loss: 2.3860\n",
      "Epoch 2/100\n",
      "17/17 [==============================] - 0s 118us/sample - loss: 0.1995\n",
      "Epoch 3/100\n",
      "17/17 [==============================] - 0s 235us/sample - loss: 0.1789\n",
      "Epoch 4/100\n",
      "17/17 [==============================] - 0s 294us/sample - loss: 0.1786\n",
      "Epoch 5/100\n",
      "17/17 [==============================] - 0s 353us/sample - loss: 0.1785\n",
      "Epoch 6/100\n",
      "17/17 [==============================] - 0s 118us/sample - loss: 0.1784\n",
      "Epoch 7/100\n",
      "17/17 [==============================] - 0s 118us/sample - loss: 0.1783\n",
      "Epoch 8/100\n",
      "17/17 [==============================] - 0s 588us/sample - loss: 0.1781\n",
      "Epoch 9/100\n",
      "17/17 [==============================] - 0s 235us/sample - loss: 0.1780\n",
      "Epoch 10/100\n",
      "17/17 [==============================] - 0s 411us/sample - loss: 0.1779\n",
      "Epoch 11/100\n",
      "17/17 [==============================] - 0s 294us/sample - loss: 0.1778\n",
      "Epoch 12/100\n",
      "17/17 [==============================] - 0s 588us/sample - loss: 0.1777\n",
      "Epoch 13/100\n",
      "17/17 [==============================] - 0s 529us/sample - loss: 0.1776\n",
      "Epoch 14/100\n",
      "17/17 [==============================] - 0s 176us/sample - loss: 0.1774\n",
      "Epoch 15/100\n",
      "17/17 [==============================] - 0s 176us/sample - loss: 0.1773\n",
      "Epoch 16/100\n",
      "17/17 [==============================] - 0s 118us/sample - loss: 0.1772\n",
      "Epoch 17/100\n",
      "17/17 [==============================] - 0s 647us/sample - loss: 0.1771\n",
      "Epoch 18/100\n",
      "17/17 [==============================] - 0s 176us/sample - loss: 0.1770\n",
      "Epoch 19/100\n",
      "17/17 [==============================] - 0s 0s/sample - loss: 0.1769\n",
      "Epoch 20/100\n",
      "17/17 [==============================] - 0s 119us/sample - loss: 0.1768\n",
      "Epoch 21/100\n",
      "17/17 [==============================] - 0s 0s/sample - loss: 0.1767\n",
      "Epoch 22/100\n",
      "17/17 [==============================] - 0s 473us/sample - loss: 0.1765\n",
      "Epoch 23/100\n",
      "17/17 [==============================] - 0s 0s/sample - loss: 0.1764\n",
      "Epoch 24/100\n",
      "17/17 [==============================] - 0s 0s/sample - loss: 0.1763\n",
      "Epoch 25/100\n",
      "17/17 [==============================] - 0s 119us/sample - loss: 0.1762\n",
      "Epoch 26/100\n",
      "17/17 [==============================] - 0s 0s/sample - loss: 0.1761\n",
      "Epoch 27/100\n",
      "17/17 [==============================] - 0s 0s/sample - loss: 0.1760\n",
      "Epoch 28/100\n",
      "17/17 [==============================] - 0s 119us/sample - loss: 0.1759\n",
      "Epoch 29/100\n",
      "17/17 [==============================] - 0s 0s/sample - loss: 0.1758\n",
      "Epoch 30/100\n",
      "17/17 [==============================] - 0s 0s/sample - loss: 0.1757\n",
      "Epoch 31/100\n",
      "17/17 [==============================] - 0s 120us/sample - loss: 0.1756\n",
      "Epoch 32/100\n",
      "17/17 [==============================] - 0s 0s/sample - loss: 0.1755\n",
      "Epoch 33/100\n",
      "17/17 [==============================] - 0s 119us/sample - loss: 0.1754\n",
      "Epoch 34/100\n",
      "17/17 [==============================] - 0s 0s/sample - loss: 0.1753\n",
      "Epoch 35/100\n",
      "17/17 [==============================] - 0s 473us/sample - loss: 0.1752\n",
      "Epoch 36/100\n",
      "17/17 [==============================] - 0s 0s/sample - loss: 0.1751\n",
      "Epoch 37/100\n",
      "17/17 [==============================] - 0s 0s/sample - loss: 0.1750\n",
      "Epoch 38/100\n",
      "17/17 [==============================] - 0s 119us/sample - loss: 0.1748\n",
      "Epoch 39/100\n",
      "17/17 [==============================] - 0s 0s/sample - loss: 0.1747\n",
      "Epoch 40/100\n",
      "17/17 [==============================] - 0s 475us/sample - loss: 0.1746\n",
      "Epoch 41/100\n",
      "17/17 [==============================] - 0s 0s/sample - loss: 0.1745\n",
      "Epoch 42/100\n",
      "17/17 [==============================] - 0s 0s/sample - loss: 0.1744\n",
      "Epoch 43/100\n",
      "17/17 [==============================] - 0s 0s/sample - loss: 0.1743\n",
      "Epoch 44/100\n",
      "17/17 [==============================] - 0s 119us/sample - loss: 0.1742\n",
      "Epoch 45/100\n",
      "17/17 [==============================] - 0s 0s/sample - loss: 0.1741\n",
      "Epoch 46/100\n",
      "17/17 [==============================] - 0s 474us/sample - loss: 0.1740\n",
      "Epoch 47/100\n",
      "17/17 [==============================] - 0s 592us/sample - loss: 0.1739\n",
      "Epoch 48/100\n",
      "17/17 [==============================] - 0s 0s/sample - loss: 0.1739\n",
      "Epoch 49/100\n",
      "17/17 [==============================] - 0s 0s/sample - loss: 0.1738\n",
      "Epoch 50/100\n",
      "17/17 [==============================] - 0s 119us/sample - loss: 0.1737\n",
      "Epoch 51/100\n",
      "17/17 [==============================] - 0s 0s/sample - loss: 0.1736\n",
      "Epoch 52/100\n",
      "17/17 [==============================] - 0s 596us/sample - loss: 0.1735\n",
      "Epoch 53/100\n",
      "17/17 [==============================] - 0s 476us/sample - loss: 0.1734\n",
      "Epoch 54/100\n",
      "17/17 [==============================] - 0s 0s/sample - loss: 0.1733\n",
      "Epoch 55/100\n",
      "17/17 [==============================] - 0s 600us/sample - loss: 0.1732\n",
      "Epoch 56/100\n",
      "17/17 [==============================] - 0s 0s/sample - loss: 0.1731\n",
      "Epoch 57/100\n",
      "17/17 [==============================] - 0s 0s/sample - loss: 0.1730\n",
      "Epoch 58/100\n",
      "17/17 [==============================] - 0s 0s/sample - loss: 0.1729\n",
      "Epoch 59/100\n",
      "17/17 [==============================] - 0s 0s/sample - loss: 0.1728\n",
      "Epoch 60/100\n",
      "17/17 [==============================] - 0s 472us/sample - loss: 0.1727\n",
      "Epoch 61/100\n",
      "17/17 [==============================] - 0s 119us/sample - loss: 0.1726\n",
      "Epoch 62/100\n",
      "17/17 [==============================] - 0s 0s/sample - loss: 0.1725\n",
      "Epoch 63/100\n",
      "17/17 [==============================] - 0s 475us/sample - loss: 0.1724\n",
      "Epoch 64/100\n",
      "17/17 [==============================] - 0s 0s/sample - loss: 0.1724\n",
      "Epoch 65/100\n",
      "17/17 [==============================] - 0s 0s/sample - loss: 0.1723\n",
      "Epoch 66/100\n",
      "17/17 [==============================] - 0s 590us/sample - loss: 0.1722\n",
      "Epoch 67/100\n",
      "17/17 [==============================] - 0s 119us/sample - loss: 0.1721\n",
      "Epoch 68/100\n",
      "17/17 [==============================] - 0s 0s/sample - loss: 0.1720\n",
      "Epoch 69/100\n",
      "17/17 [==============================] - 0s 0s/sample - loss: 0.1719\n",
      "Epoch 70/100\n",
      "17/17 [==============================] - 0s 119us/sample - loss: 0.1718\n",
      "Epoch 71/100\n",
      "17/17 [==============================] - 0s 0s/sample - loss: 0.1717\n",
      "Epoch 72/100\n",
      "17/17 [==============================] - 0s 472us/sample - loss: 0.1717\n",
      "Epoch 73/100\n",
      "17/17 [==============================] - 0s 120us/sample - loss: 0.1716\n",
      "Epoch 74/100\n",
      "17/17 [==============================] - 0s 0s/sample - loss: 0.1715\n",
      "Epoch 75/100\n",
      "17/17 [==============================] - 0s 0s/sample - loss: 0.1714\n",
      "Epoch 76/100\n",
      "17/17 [==============================] - 0s 476us/sample - loss: 0.1713\n",
      "Epoch 77/100\n",
      "17/17 [==============================] - 0s 0s/sample - loss: 0.1712\n",
      "Epoch 78/100\n",
      "17/17 [==============================] - 0s 0s/sample - loss: 0.1711\n",
      "Epoch 79/100\n",
      "17/17 [==============================] - 0s 589us/sample - loss: 0.1711\n",
      "Epoch 80/100\n",
      "17/17 [==============================] - 0s 0s/sample - loss: 0.1710\n",
      "Epoch 81/100\n",
      "17/17 [==============================] - 0s 0s/sample - loss: 0.1709\n",
      "Epoch 82/100\n",
      "17/17 [==============================] - 0s 0s/sample - loss: 0.1708\n",
      "Epoch 83/100\n",
      "17/17 [==============================] - 0s 0s/sample - loss: 0.1707\n",
      "Epoch 84/100\n",
      "17/17 [==============================] - 0s 0s/sample - loss: 0.1706\n",
      "Epoch 85/100\n",
      "17/17 [==============================] - 0s 0s/sample - loss: 0.1706\n",
      "Epoch 86/100\n",
      "17/17 [==============================] - 0s 0s/sample - loss: 0.1705\n",
      "Epoch 87/100\n",
      "17/17 [==============================] - 0s 0s/sample - loss: 0.1704\n",
      "Epoch 88/100\n",
      "17/17 [==============================] - 0s 0s/sample - loss: 0.1703\n",
      "Epoch 89/100\n",
      "17/17 [==============================] - 0s 0s/sample - loss: 0.1702\n",
      "Epoch 90/100\n",
      "17/17 [==============================] - 0s 0s/sample - loss: 0.1702\n",
      "Epoch 91/100\n",
      "17/17 [==============================] - 0s 0s/sample - loss: 0.1701\n",
      "Epoch 92/100\n",
      "17/17 [==============================] - 0s 0s/sample - loss: 0.1700\n",
      "Epoch 93/100\n",
      "17/17 [==============================] - 0s 0s/sample - loss: 0.1699\n",
      "Epoch 94/100\n",
      "17/17 [==============================] - 0s 919us/sample - loss: 0.1698\n",
      "Epoch 95/100\n",
      "17/17 [==============================] - 0s 0s/sample - loss: 0.1698\n",
      "Epoch 96/100\n",
      "17/17 [==============================] - 0s 0s/sample - loss: 0.1697\n",
      "Epoch 97/100\n",
      "17/17 [==============================] - 0s 0s/sample - loss: 0.1696\n",
      "Epoch 98/100\n",
      "17/17 [==============================] - 0s 0s/sample - loss: 0.1695\n",
      "Epoch 99/100\n",
      "17/17 [==============================] - 0s 0s/sample - loss: 0.1695\n"
     ]
    },
    {
     "name": "stdout",
     "output_type": "stream",
     "text": [
      "Epoch 100/100\n",
      "\r",
      "17/17 [==============================] - 0s 0s/sample - loss: 0.1694\n"
     ]
    },
    {
     "data": {
      "text/plain": [
       "<tensorflow.python.keras.callbacks.History at 0x2b56018eeb8>"
      ]
     },
     "execution_count": 8,
     "metadata": {},
     "output_type": "execute_result"
    }
   ],
   "source": [
    "model.fit(X, Y, epochs = 100)"
   ]
  },
  {
   "cell_type": "markdown",
   "metadata": {},
   "source": [
    "data를 통해서 계산되어 나옴  \n",
    "17/17 은 17개의 데이터를 가지고 훈련을 시켰다라는 뜻?"
   ]
  },
  {
   "cell_type": "markdown",
   "metadata": {},
   "source": [
    "loss가 점점 더 작아지는 방식으로 가야지 훈련이 잘 되는 것임. 처음 epoch는 결국 loss값이 존나 클 수밖에 없음"
   ]
  },
  {
   "cell_type": "markdown",
   "metadata": {},
   "source": [
    "# model prediction"
   ]
  },
  {
   "cell_type": "code",
   "execution_count": 9,
   "metadata": {
    "scrolled": false
   },
   "outputs": [
    {
     "name": "stdout",
     "output_type": "stream",
     "text": [
      "[[0.74696565]\n",
      " [1.0484352 ]\n",
      " [1.3499048 ]\n",
      " [1.6513743 ]\n",
      " [1.9528439 ]\n",
      " [2.2543135 ]\n",
      " [2.555783  ]\n",
      " [2.8572526 ]\n",
      " [3.1587222 ]\n",
      " [3.4601917 ]]\n"
     ]
    },
    {
     "data": {
      "text/plain": [
       "[<matplotlib.lines.Line2D at 0x2b5601d8be0>]"
      ]
     },
     "execution_count": 9,
     "metadata": {},
     "output_type": "execute_result"
    },
    {
     "data": {
      "image/png": "[encoded data removed]",
      "text/plain": [
       "<Figure size 432x288 with 1 Axes>"
      ]
     },
     "metadata": {
      "needs_background": "light"
     },
     "output_type": "display_data"
    }
   ],
   "source": [
    "x = [1, 2, 3, 4, 5, 6, 7, 8, 9, 10]\n",
    "y = model.predict(x)\n",
    "print(y)\n",
    "plt.plot(X, Y, '.')\n",
    "plt.plot(x, y, 'rx')"
   ]
  },
  {
   "cell_type": "markdown",
   "metadata": {},
   "source": [
    "모델을 훈련시켰으니 예측하는 방법을 쓸 수 있음  \n",
    "predict를 한다는 말은 어떤 시스템을 만들고 출력이 뭐가 나오는지 모를 상태에서 입력을 넣어보는 것임  \n",
    "우리가 모델을 만들었기 때문에 y를 모델을 사용해서 predict함수에 x를 넣으면 됨  \n",
    "그럴 때 y가 뭐가 나오는지 알 수 있음"
   ]
  },
  {
   "cell_type": "markdown",
   "metadata": {},
   "source": [
    "그리고 그것이 제대로 나오는 건지 예측할 수 있음.  \n",
    "하나는 원래 data  \n",
    "하나는 새로운 data  \n",
    "그리고 그걸 한 번에 비교할 수 있음.  \n",
    "파란색은 원래 data  \n",
    "prediction 하는 부분을 잘 보면 일직선임. 우리가 애초에 모델을 상정하기에 y = ax+b라는 직선이었기 떄문에 그럴 수밖에 없음"
   ]
  },
  {
   "cell_type": "markdown",
   "metadata": {},
   "source": [
    "이제는 data가 없다 치더라도 이 model 만 들고 다니면 됨"
   ]
  },
  {
   "cell_type": "markdown",
   "metadata": {},
   "source": [
    "# what are a and b in y = ax + b?"
   ]
  },
  {
   "cell_type": "markdown",
   "metadata": {},
   "source": [
    "결국 우리가 필요한 걸 generalize 하면 a와 b임"
   ]
  },
  {
   "cell_type": "code",
   "execution_count": 11,
   "metadata": {},
   "outputs": [
    {
     "name": "stdout",
     "output_type": "stream",
     "text": [
      "[array([[0.30146956]], dtype=float32), array([0.44549605], dtype=float32)]\n"
     ]
    }
   ],
   "source": [
    "weight = model.layers[0].get_weights()\n",
    "print(weight)"
   ]
  },
  {
   "cell_type": "markdown",
   "metadata": {},
   "source": [
    "우리는 deep learning의 intermediate layer를 만들지 않았기 때문에 첫 번쨰 layer만 불러내면 됨.  \n",
    "그리고 거기서 훈련이 벌써 됐으니까 weight를 가져오라 라고 하면 됨."
   ]
  },
  {
   "cell_type": "code",
   "execution_count": null,
   "metadata": {},
   "outputs": [],
   "source": []
  }
 ],
 "metadata": {
  "kernelspec": {
   "display_name": "Python 3",
   "language": "python",
   "name": "python3"
  },
  "language_info": {
   "codemirror_mode": {
    "name": "ipython",
    "version": 3
   },
   "file_extension": ".py",
   "mimetype": "text/x-python",
   "name": "python",
   "nbconvert_exporter": "python",
   "pygments_lexer": "ipython3",
   "version": "3.7.1"
  }
 },
 "nbformat": 4,
 "nbformat_minor": 1
}
