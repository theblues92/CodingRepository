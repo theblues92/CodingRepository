{
 "cells": [
  {
   "cell_type": "markdown",
   "metadata": {},
   "source": [
    "## Syntax with for loop&if"
   ]
  },
  {
   "cell_type": "markdown",
   "metadata": {},
   "source": [
    "### For Loop"
   ]
  },
  {
   "cell_type": "code",
   "execution_count": 1,
   "metadata": {},
   "outputs": [
    {
     "name": "stdout",
     "output_type": "stream",
     "text": [
      "1\n",
      "2\n",
      "3\n",
      "4\n"
     ]
    }
   ],
   "source": [
    "a = [1, 2, 3, 4]\n",
    "for i in a:\n",
    "    print(i)"
   ]
  },
  {
   "cell_type": "markdown",
   "metadata": {},
   "source": [
    "1. For Loop 는 이런 형태를 가진다고 생각하면 편하게 접근 가능하다\n",
    "2. for variable in list/tuple/string:\n",
    "3. 이 때 list나 tuple 혹은 string의 각 element들이 variable에 for loop 내에서의 명령을 수행하는 것이다\n",
    "4. 위의 line으로 다시 설명해보자면,\n",
    "5. a는 list이고 1, 2, 3, 4로 각각 네 개의 element들로 이루어져있다\n",
    "6. a의 이 각각 네 개의 element들이 i라는 변수로 한 번씩 들어가고\n",
    "7. print(i)라는 명령을 각각 수행하여\n",
    "8. 1 2 3 4 라는 결과를 보여주는 것이다"
   ]
  },
  {
   "cell_type": "code",
   "execution_count": 2,
   "metadata": {
    "scrolled": true
   },
   "outputs": [
    {
     "name": "stdout",
     "output_type": "stream",
     "text": [
      "1\n",
      "2\n",
      "3\n",
      "4\n"
     ]
    }
   ],
   "source": [
    "a = [1, 2, 3, 4]\n",
    "for i in range(len(a)):\n",
    "    print(i+1)"
   ]
  },
  {
   "cell_type": "markdown",
   "metadata": {},
   "source": [
    "1. 이 line 또한 위와 다를 바 없다\n",
    "2. len(a)는 4이다\n",
    "3. 다만 range(4)는 0, 1, 2, 3 의 값을 가지고 있기 때문에\n",
    "4. print(i+1)을 했을 때 1 2 3 4 의 결과를 보여주는 것이다"
   ]
  },
  {
   "cell_type": "code",
   "execution_count": 3,
   "metadata": {},
   "outputs": [
    {
     "name": "stdout",
     "output_type": "stream",
     "text": [
      "0\n",
      "1\n",
      "2\n",
      "3\n"
     ]
    }
   ],
   "source": [
    "for i in range(4):\n",
    "    print(i)"
   ]
  },
  {
   "cell_type": "markdown",
   "metadata": {},
   "source": [
    "1. 그러면 for loop 안에 포함된 이러한 문장은 '언제' 끝나냐라고 의문을 가질 수 있다\n",
    "2. 혹은 다른 문장들과 '어떻게' 구별될 수 있냐는 의문을 가질 수 있을 것이다\n",
    "3. python은 어떤 문장의 단위를 'end'라는 언어를 통해 끝내지 않고\n",
    "4. 'indentation'을 통해 그 경계를 구분하고 있기에\n",
    "5. tap 키를 통한 들여쓰기에 매우 유의해야 한다"
   ]
  },
  {
   "cell_type": "code",
   "execution_count": 4,
   "metadata": {},
   "outputs": [
    {
     "name": "stdout",
     "output_type": "stream",
     "text": [
      "red\n",
      "green\n",
      "blue\n",
      "purple\n"
     ]
    }
   ],
   "source": [
    "a = ['red', 'green', 'blue', 'purple']\n",
    "for i in a:\n",
    "    print(i)"
   ]
  },
  {
   "cell_type": "code",
   "execution_count": 5,
   "metadata": {},
   "outputs": [
    {
     "name": "stdout",
     "output_type": "stream",
     "text": [
      "red\n",
      "green\n",
      "blue\n",
      "purple\n"
     ]
    }
   ],
   "source": [
    "a = ['red', 'green', 'blue', 'purple']\n",
    "for i in range(len(a)):\n",
    "    print(a[i])"
   ]
  },
  {
   "cell_type": "markdown",
   "metadata": {},
   "source": [
    "#### enumerate 함수"
   ]
  },
  {
   "cell_type": "code",
   "execution_count": 6,
   "metadata": {},
   "outputs": [
    {
     "data": {
      "text/plain": [
       "[(0, 'red'), (1, 'green'), (2, 'blue'), (3, 'purple')]"
      ]
     },
     "execution_count": 6,
     "metadata": {},
     "output_type": "execute_result"
    }
   ],
   "source": [
    "a = [\"red\", \"green\", \"blue\", \"purple\"]\n",
    "list(enumerate(a))"
   ]
  },
  {
   "cell_type": "markdown",
   "metadata": {},
   "source": [
    "1. enumerate 함수는 해당 variable element의 순서를 index하여 그 둘의 값을 같이 전달한다"
   ]
  },
  {
   "cell_type": "code",
   "execution_count": 7,
   "metadata": {
    "scrolled": true
   },
   "outputs": [
    {
     "name": "stdout",
     "output_type": "stream",
     "text": [
      "red: 20.0%\n",
      "green: 30.0%\n",
      "blue: 10.0%\n",
      "purple: 40.0%\n"
     ]
    }
   ],
   "source": [
    "a = [\"red\", \"green\", \"blue\", \"purple\"]\n",
    "b = [0.2, 0.3, 0.1, 0.4]\n",
    "for i, a in enumerate(a):\n",
    "    print(\"{}: {}%\".format(a, b[i]*100))"
   ]
  },
  {
   "cell_type": "markdown",
   "metadata": {},
   "source": [
    "2. 위의 line에서 for loop 구문부터 우선 살펴보자\n",
    "3. 4가지의 string element를 가지고 있는 a라는 list를 enumerate 하였기 때문에 각각은 그 순서(0, 1, 2, 3)와 함께 string이 딸려 나오게 된다\n",
    "4. 이것이 for loop에 의해 i와 a로 나오게 되고\n",
    "5. a라는 string이 먼저 출력, 그리고 colon, 그리고 space,\n",
    "6. 그리고 b[i]가 출력, 이것은 역시 그 순서대로의 index 값인 0.2, 0.3, 0.1, 0.4가 나올 것이다\n",
    "7. 그 값에다가 100을 곱하였기에 최종적으로 위에서 살펴볼 수 있는 저러한 결과를 보여주게 된다"
   ]
  },
  {
   "cell_type": "markdown",
   "metadata": {},
   "source": [
    "#### zip 함수"
   ]
  },
  {
   "cell_type": "code",
   "execution_count": 8,
   "metadata": {},
   "outputs": [
    {
     "name": "stdout",
     "output_type": "stream",
     "text": [
      "red: 20.0%\n",
      "green: 30.0%\n",
      "blue: 10.0%\n",
      "purple: 40.0%\n"
     ]
    }
   ],
   "source": [
    "a = [\"red\", \"green\", \"blue\", \"purple\"]\n",
    "b = [0.2, 0.3, 0.1, 0.4]\n",
    "for a_, b_ in zip(a, b):\n",
    "    print(\"{}: {}%\".format(a_, b_*100))\n"
   ]
  },
  {
   "cell_type": "markdown",
   "metadata": {},
   "source": [
    "1. 이것 또한 위의 enumerate 함수를 쓰는 for loop 구문과 비슷하다\n",
    "2. 다만 zip 함수는 enumerate 함수와 달리 두 개의 각각 다른 variable에서 그 순서대로 서로를 묶어주는 것이다\n",
    "3. 위의 cell에서 a_, b_는 특별한 기호가 아니라 c, d처럼 새로운 변수와 동일한 것이다\n",
    "4. 그런데 zip 함수에서 한 쪽 variable의 element가 더 많거나 더 적으면 어떻게 될까?"
   ]
  },
  {
   "cell_type": "code",
   "execution_count": 9,
   "metadata": {},
   "outputs": [
    {
     "data": {
      "text/plain": [
       "[('1', '6'), ('red', '1'), (3, '3'), ([4, 'string'], '4')]"
      ]
     },
     "execution_count": 9,
     "metadata": {},
     "output_type": "execute_result"
    }
   ],
   "source": [
    "a = [\"1\", \"red\", 3, [4, \"string\"]]\n",
    "b = \"613461\"\n",
    "list(zip(a, b))"
   ]
  },
  {
   "cell_type": "markdown",
   "metadata": {},
   "source": [
    "5. 이런 식으로 error가 나오는 것이 아니라 더 적은 쪽으로 맞추어지게 된다"
   ]
  },
  {
   "cell_type": "markdown",
   "metadata": {},
   "source": [
    "### IF"
   ]
  },
  {
   "cell_type": "code",
   "execution_count": 10,
   "metadata": {},
   "outputs": [
    {
     "name": "stdout",
     "output_type": "stream",
     "text": [
      "0\n"
     ]
    }
   ],
   "source": [
    "a = 0\n",
    "if a == 0:\n",
    "    print(a)\n",
    "else:\n",
    "     print(a+1)"
   ]
  },
  {
   "cell_type": "markdown",
   "metadata": {},
   "source": [
    "1. equal sign은 '같다'가 아니라 변수와 그 값을 할당하는 관계를 지칭한다고 배웠다\n",
    "2. if에서 'a가 b이면' 이라는 조건을 나타내어야 할 때는 'double' equal sign을 써서 나타내준다"
   ]
  },
  {
   "cell_type": "code",
   "execution_count": 11,
   "metadata": {},
   "outputs": [
    {
     "name": "stdout",
     "output_type": "stream",
     "text": [
      "3\n",
      "4\n",
      "6\n",
      "8\n"
     ]
    }
   ],
   "source": [
    "for i in range(1, 3):\n",
    "    for j in range(3, 5):\n",
    "        print(i*j)"
   ]
  },
  {
   "cell_type": "markdown",
   "metadata": {},
   "source": [
    "3. 위 cell에서 얼핏 보기에는 range(1, 3)은 1, 2, 3\n",
    "4. range(3, 5)은 3, 4, 5\n",
    "5. 따라서 총 아홉 가지의 결과값이 출력되어야 할 것 같은데\n",
    "6. 아니다, 왜?\n",
    "7. range(a, b)에서 시작숫자는 a이지만, 마지막 숫자는 b-1이기 때문이다"
   ]
  },
  {
   "cell_type": "code",
   "execution_count": 12,
   "metadata": {},
   "outputs": [
    {
     "name": "stdout",
     "output_type": "stream",
     "text": [
      "4\n",
      "8\n"
     ]
    }
   ],
   "source": [
    "for i in range(1, 3):\n",
    "    for j in range(3, 5):\n",
    "        if j >=4:\n",
    "            print(i*j)"
   ]
  },
  {
   "cell_type": "code",
   "execution_count": 13,
   "metadata": {},
   "outputs": [
    {
     "data": {
      "text/plain": [
       "[2, 3, 4]"
      ]
     },
     "execution_count": 13,
     "metadata": {},
     "output_type": "execute_result"
    }
   ],
   "source": [
    "a = [1, 2, 3, 4]\n",
    "b = [i for i in a if i >=2]\n",
    "b"
   ]
  },
  {
   "cell_type": "markdown",
   "metadata": {},
   "source": [
    "8. 이렇게 for loop 구문과 if 구문이 한 줄 안에 나올 수도 있다"
   ]
  },
  {
   "cell_type": "code",
   "execution_count": 14,
   "metadata": {},
   "outputs": [
    {
     "data": {
      "text/plain": [
       "['green', 'blue', 'purple']"
      ]
     },
     "execution_count": 14,
     "metadata": {},
     "output_type": "execute_result"
    }
   ],
   "source": [
    "a = ['red', 'green', 'blue', 'purple']\n",
    "b = [i for i in a if len(i) >=4]\n",
    "b"
   ]
  },
  {
   "cell_type": "markdown",
   "metadata": {},
   "source": [
    "## 여기까지 0312 수업 내용 및 정리"
   ]
  },
  {
   "cell_type": "markdown",
   "metadata": {},
   "source": [
    "---"
   ]
  }
 ],
 "metadata": {
  "kernelspec": {
   "display_name": "Python 3",
   "language": "python",
   "name": "python3"
  },
  "language_info": {
   "codemirror_mode": {
    "name": "ipython",
    "version": 3
   },
   "file_extension": ".py",
   "mimetype": "text/x-python",
   "name": "python",
   "nbconvert_exporter": "python",
   "pygments_lexer": "ipython3",
   "version": "3.7.1"
  }
 },
 "nbformat": 4,
 "nbformat_minor": 2
}
